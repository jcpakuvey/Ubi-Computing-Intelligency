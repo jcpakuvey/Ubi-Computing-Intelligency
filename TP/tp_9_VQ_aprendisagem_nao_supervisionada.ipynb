{
 "cells": [
  {
   "cell_type": "code",
   "execution_count": 12,
   "id": "e37950bc",
   "metadata": {},
   "outputs": [
    {
     "name": "stdout",
     "output_type": "stream",
     "text": [
      "Pesos dos neurônios após o treinamento:\n",
      "[[0.3415965  0.90760534 0.62622018]\n",
      " [0.03489449 0.67447237 0.66836891]\n",
      " [0.71052632 0.70526316 0.7       ]\n",
      " [0.10000389 0.20000832 0.29999257]\n",
      " [0.36724168 0.95761153 0.8992746 ]]\n"
     ]
    }
   ],
   "source": [
    "import numpy as np\n",
    "\n",
    "class VectorQuantificacao:\n",
    "    def __init__(self, input_size, num_neurons, learning_rate=0.1, num_epochs=100):\n",
    "        self.input_size = input_size\n",
    "        self.num_neurons = num_neurons\n",
    "        self.learning_rate = learning_rate\n",
    "        self.num_epochs = num_epochs\n",
    "\n",
    "        # Inicialização dos pesos dos neurônios\n",
    "        self.weights = np.random.rand(num_neurons, input_size)\n",
    "      \n",
    "        \n",
    "    def train(self, data):\n",
    "        for epoch in range(self.num_epochs):\n",
    "            for x in data:\n",
    "                # Encontre o neurônio vencedor (o mais próximo do ponto de entrada)\n",
    "                winner_index = self._find_winner(x)\n",
    "\n",
    "                # Atualize os pesos do neurônio vencedor\n",
    "                self.weights[winner_index] += self.learning_rate * (x - self.weights[winner_index])\n",
    "                \n",
    "    def _find_winner(self, x):\n",
    "        # Calcule as distâncias entre o ponto de entrada e os pesos de todos os neurônios\n",
    "        distances = np.linalg.norm(self.weights - x, axis=1)\n",
    "        \n",
    "        # Encontre o índice do neurônio com a menor distância (o vencedor)\n",
    "        winner_index = np.argmin(distances)\n",
    "        return winner_index\n",
    "\n",
    "# Define o conjunto de dados de entrada\n",
    "data = np.array([[0.1, 0.2, 0.3],\n",
    "                 [0.5, 0.6, 0.7],\n",
    "                 [0.9, 0.8, 0.7]])\n",
    "\n",
    "# Cria e treina o vetor quantizado\n",
    "vq = VectorQuantificacao(input_size=3, num_neurons=5, learning_rate=0.1, num_epochs=100)\n",
    "vq.train(data)\n",
    "\n",
    "# Imprime os pesos dos neurônios após o treinamento\n",
    "print(\"Pesos dos neurônios após o treinamento:\")\n",
    "print(vq.weights)\n"
   ]
  },
  {
   "cell_type": "code",
   "execution_count": null,
   "id": "900a52a4",
   "metadata": {},
   "outputs": [],
   "source": []
  }
 ],
 "metadata": {
  "kernelspec": {
   "display_name": "Python 3 (ipykernel)",
   "language": "python",
   "name": "python3"
  },
  "language_info": {
   "codemirror_mode": {
    "name": "ipython",
    "version": 3
   },
   "file_extension": ".py",
   "mimetype": "text/x-python",
   "name": "python",
   "nbconvert_exporter": "python",
   "pygments_lexer": "ipython3",
   "version": "3.11.5"
  },
  "toc": {
   "base_numbering": 1,
   "nav_menu": {},
   "number_sections": true,
   "sideBar": true,
   "skip_h1_title": false,
   "title_cell": "Table of Contents",
   "title_sidebar": "Contents",
   "toc_cell": false,
   "toc_position": {},
   "toc_section_display": true,
   "toc_window_display": true
  }
 },
 "nbformat": 4,
 "nbformat_minor": 5
}
