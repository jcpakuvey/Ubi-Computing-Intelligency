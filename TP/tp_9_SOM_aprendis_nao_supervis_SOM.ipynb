{
 "cells": [
  {
   "cell_type": "code",
   "execution_count": 4,
   "id": "b9d29cde",
   "metadata": {},
   "outputs": [
    {
     "ename": "IndexError",
     "evalue": "index 11 is out of bounds for axis 0 with size 5",
     "output_type": "error",
     "traceback": [
      "\u001b[1;31m---------------------------------------------------------------------------\u001b[0m",
      "\u001b[1;31mIndexError\u001b[0m                                Traceback (most recent call last)",
      "Cell \u001b[1;32mIn[4], line 38\u001b[0m\n\u001b[0;32m     36\u001b[0m \u001b[38;5;66;03m# Cria e treina o SOM\u001b[39;00m\n\u001b[0;32m     37\u001b[0m som \u001b[38;5;241m=\u001b[39m APNS(input_size\u001b[38;5;241m=\u001b[39m\u001b[38;5;241m3\u001b[39m, map_size\u001b[38;5;241m=\u001b[39m(\u001b[38;5;241m5\u001b[39m, \u001b[38;5;241m5\u001b[39m), learning_rate\u001b[38;5;241m=\u001b[39m\u001b[38;5;241m0.1\u001b[39m, num_epochs\u001b[38;5;241m=\u001b[39m\u001b[38;5;241m100\u001b[39m)\n\u001b[1;32m---> 38\u001b[0m som\u001b[38;5;241m.\u001b[39mtrain(data)\n",
      "Cell \u001b[1;32mIn[4], line 20\u001b[0m, in \u001b[0;36mAPNS.train\u001b[1;34m(self, data)\u001b[0m\n\u001b[0;32m     17\u001b[0m winner_index \u001b[38;5;241m=\u001b[39m \u001b[38;5;28mself\u001b[39m\u001b[38;5;241m.\u001b[39m_find_winner(x)\n\u001b[0;32m     19\u001b[0m \u001b[38;5;66;03m# Atualize os pesos do neurônio vencedor\u001b[39;00m\n\u001b[1;32m---> 20\u001b[0m \u001b[38;5;28mself\u001b[39m\u001b[38;5;241m.\u001b[39mweights[winner_index] \u001b[38;5;241m+\u001b[39m\u001b[38;5;241m=\u001b[39m \u001b[38;5;28mself\u001b[39m\u001b[38;5;241m.\u001b[39mlearning_rate \u001b[38;5;241m*\u001b[39m (x \u001b[38;5;241m-\u001b[39m \u001b[38;5;28mself\u001b[39m\u001b[38;5;241m.\u001b[39mweights[winner_index])\n",
      "\u001b[1;31mIndexError\u001b[0m: index 11 is out of bounds for axis 0 with size 5"
     ]
    }
   ],
   "source": [
    "import numpy as np\n",
    "\n",
    "class APNS:\n",
    "    def __init__(self, input_size, map_size, learning_rate=0.1, num_epochs=100):\n",
    "        self.input_size = input_size\n",
    "        self.map_size = map_size\n",
    "        self.learning_rate = learning_rate\n",
    "        self.num_epochs = num_epochs\n",
    "\n",
    "        # Inicialização dos pesos dos neurônios\n",
    "        self.weights = np.random.rand(map_size[0], map_size[1], input_size)\n",
    "        \n",
    "    def train(self, data):\n",
    "        for epoch in range(self.num_epochs):\n",
    "            for x in data:\n",
    "                # Encontre o neurônio vencedor (o mais próximo do ponto de entrada)\n",
    "                winner_index = self._find_winner(x)\n",
    "\n",
    "                # Atualize os pesos do neurônio vencedor\n",
    "                self.weights[winner_index] += self.learning_rate * (x - self.weights[winner_index])\n",
    "                \n",
    "    def _find_winner(self, x):\n",
    "        # Calcule as distâncias entre o ponto de entrada e os pesos de todos os neurônios\n",
    "        distances = np.linalg.norm(self.weights - x, axis=1)\n",
    "        \n",
    "        # Encontre o índice do neurônio com a menor distância (o vencedor)\n",
    "        winner_index = np.argmin(distances)\n",
    "        return winner_index\n",
    "        \n",
    "        \n",
    "# Define o conjunto de dados de entrada\n",
    "data = np.array([[0.1, 0.2, 0.3],\n",
    "                 [0.5, 0.6, 0.7],\n",
    "                 [0.9, 0.8, 0.7]])\n",
    "\n",
    "# Cria e treina o SOM\n",
    "som = APNS(input_size=3, map_size=(5, 5), learning_rate=0.1, num_epochs=100)\n",
    "som.train(data)\n",
    "\n",
    "# Imprime os pesos dos neurônios após o treinamento\n",
    "#vencedor = _find_winner(data)\n",
    "#print(\"Pesos dos neurônios após o treinamento:\", vencedor)"
   ]
  },
  {
   "cell_type": "code",
   "execution_count": null,
   "id": "a5f94b88",
   "metadata": {},
   "outputs": [],
   "source": []
  }
 ],
 "metadata": {
  "kernelspec": {
   "display_name": "Python 3 (ipykernel)",
   "language": "python",
   "name": "python3"
  },
  "language_info": {
   "codemirror_mode": {
    "name": "ipython",
    "version": 3
   },
   "file_extension": ".py",
   "mimetype": "text/x-python",
   "name": "python",
   "nbconvert_exporter": "python",
   "pygments_lexer": "ipython3",
   "version": "3.11.5"
  },
  "toc": {
   "base_numbering": 1,
   "nav_menu": {},
   "number_sections": true,
   "sideBar": true,
   "skip_h1_title": false,
   "title_cell": "Table of Contents",
   "title_sidebar": "Contents",
   "toc_cell": false,
   "toc_position": {},
   "toc_section_display": true,
   "toc_window_display": true
  }
 },
 "nbformat": 4,
 "nbformat_minor": 5
}
