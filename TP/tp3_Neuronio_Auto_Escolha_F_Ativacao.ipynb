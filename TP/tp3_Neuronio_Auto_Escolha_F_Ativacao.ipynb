{
 "cells": [
  {
   "cell_type": "code",
   "execution_count": 8,
   "id": "3e05494a",
   "metadata": {},
   "outputs": [
    {
     "name": "stdout",
     "output_type": "stream",
     "text": [
      "Saída usando função de ativação sigmoid: 0.6224593312018546\n",
      "Saída usando função de ativação relu: 0.0\n",
      "Saída usando função de ativação tanh: 0.0\n",
      "Saída usando função de ativação degrau: 0.0\n",
      "Saída usando função de ativação steep: 0.0\n"
     ]
    }
   ],
   "source": [
    "import random\n",
    "import numpy as np\n",
    "\n",
    "class Neuronio_2:\n",
    "\n",
    "    def __init__(self, funcao_ativacao):\n",
    "        self.funcao_ativacao = funcao_ativacao\n",
    "\n",
    "    def ativar(self, entradas):\n",
    "        if self.funcao_ativacao == 'sigmoid':\n",
    "            return self.sigmoid(entradas)\n",
    "        elif self.funcao_ativacao == 'relu':\n",
    "            return self.relu(entradas)\n",
    "        elif self.funcao_ativacao == 'tanh':\n",
    "            return self.tanh(entradas)\n",
    "        elif self.funcao_ativação == 'degrau':\n",
    "            return self.degrau(entradas)\n",
    "        elif self.funcao_ativação == 'steep':\n",
    "            return self.steep(entradas)\n",
    "        else:\n",
    "            raise ValueError(\"Função de ativação não suportada.\")\n",
    "\n",
    "    def sigmoid(self, x):\n",
    "        return 1 / (1 + np.exp(-x))\n",
    "\n",
    "    def relu(self, x):\n",
    "        return np.maximum(0, x)\n",
    "\n",
    "    def tanh(self, x):\n",
    "        return np.tanh(x)\n",
    "    \n",
    "    def degrau(self, x):\n",
    "        return np.where(x >= 0, 1, 0)\n",
    "\n",
    "    def steep(self, x):\n",
    "        return np.where(x >= 0, 1, -1)\n",
    "\n",
    "# Exemplo de uso:\n",
    "neuronio_sigmoid = Neuronio_2('sigmoid')\n",
    "saida = neuronio_sigmoid.ativar(0.5)\n",
    "print(\"Saída usando função de ativação sigmoid:\", saida)\n",
    "\n",
    "neuronio_relu = Neuronio_2('relu')\n",
    "saida = neuronio_relu.ativar(-0.5)\n",
    "print(\"Saída usando função de ativação relu:\", saida)\n",
    "\n",
    "neuronio_tanh = Neuronio_2('tanh')\n",
    "saida = neuronio_tanh.ativar(0.0)\n",
    "print(\"Saída usando função de ativação tanh:\", saida)\n",
    "\n",
    "neuronio_degrau = Neuronio_2('degrau')\n",
    "saida = neuronio_tanh.ativar(0.0)\n",
    "print(\"Saída usando função de ativação degrau:\", saida)\n",
    "\n",
    "neuronio_steep = Neuronio_2('steep')\n",
    "saida = neuronio_tanh.ativar(0.0)\n",
    "print(\"Saída usando função de ativação steep:\", saida)\n",
    "\n"
   ]
  },
  {
   "cell_type": "code",
   "execution_count": null,
   "id": "0f55131d",
   "metadata": {},
   "outputs": [],
   "source": []
  }
 ],
 "metadata": {
  "kernelspec": {
   "display_name": "Python 3 (ipykernel)",
   "language": "python",
   "name": "python3"
  },
  "language_info": {
   "codemirror_mode": {
    "name": "ipython",
    "version": 3
   },
   "file_extension": ".py",
   "mimetype": "text/x-python",
   "name": "python",
   "nbconvert_exporter": "python",
   "pygments_lexer": "ipython3",
   "version": "3.11.5"
  }
 },
 "nbformat": 4,
 "nbformat_minor": 5
}
