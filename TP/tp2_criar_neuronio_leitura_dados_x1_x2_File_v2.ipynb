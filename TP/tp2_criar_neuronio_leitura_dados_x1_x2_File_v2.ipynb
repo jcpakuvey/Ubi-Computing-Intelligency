{
 "cells": [
  {
   "cell_type": "code",
   "execution_count": 10,
   "id": "2a323f7a",
   "metadata": {},
   "outputs": [
    {
     "name": "stdout",
     "output_type": "stream",
     "text": [
      "Entrada: [ 1.5 40.   0. ]  Saída: [0.81757448 1.         0.5       ]\n",
      "Entrada: [ 1.52 41.    0.  ]  Saída: [0.82053848 1.         0.5       ]\n",
      "Entrada: [ 1.56 43.    0.  ]  Saída: [0.82635335 1.         0.5       ]\n",
      "Entrada: [ 1.54 45.    0.  ]  Saída: [0.82346473 1.         0.5       ]\n",
      "Entrada: [ 1.5 37.   0. ]  Saída: [0.81757448 1.         0.5       ]\n",
      "Entrada: [ 1.62 47.    1.  ]  Saída: [0.83479513 1.         0.73105858]\n",
      "Entrada: [ 1.7 52.   1. ]  Saída: [0.84553473 1.         0.73105858]\n",
      "Entrada: [ 1.53 63.    1.  ]  Saída: [0.82200631 1.         0.73105858]\n",
      "Entrada: [ 1.63 44.    1.  ]  Saída: [0.83616964 1.         0.73105858]\n",
      "Entrada: [ 1.57 50.    1.  ]  Saída: [0.82778361 1.         0.73105858]\n"
     ]
    }
   ],
   "source": [
    "import csv\n",
    "import numpy as np\n",
    "import pandas as pd\n",
    "\n",
    "class Neuronio:\n",
    "        \n",
    "    def __init__(self, funcao_ativacao):\n",
    "        self.funcao_ativacao = funcao_ativacao\n",
    "\n",
    "    def ativar(self, inputs):\n",
    "        if self.funcao_ativacao == 'degrau':\n",
    "            return self.degrau(inputs)\n",
    "        elif self.funcao_ativacao == 'steep':\n",
    "            return self.steep(inputs)\n",
    "        elif self.funcao_ativacao == 'sigmoide':\n",
    "            return self.sigmoide(inputs)\n",
    "        else:\n",
    "            raise ValueError(\"Função de ativação não suportada.\")\n",
    "\n",
    "    def degrau(self, x):\n",
    "        return np.where(x >= 0, 1, 0)\n",
    "\n",
    "    def steep(self, x):\n",
    "        return np.where(x >= 0, 1, -1)\n",
    "    \n",
    "    def sigmoide(self, x):\n",
    "        return 1 / (1 + np.exp(-x))\n",
    "\n",
    "# Função para calcular a saída do neurônio para um ponto de dados específico\n",
    "\"\"\"\n",
    "def calcular_saida(entrada, pesos):\n",
    "    # Calcular o produto escalar entre a entrada e os pesos\n",
    "    produto_escalar = np.dot(entrada, pesos)\n",
    "    # Aplicar a função de ativação sigmoide\n",
    "    return sigmoid(produto_escalar)\n",
    "\n",
    "\"\"\"\n",
    "\n",
    "    \n",
    "# Inicializando o gerador de números aleatórios com a semente 53217\n",
    "np.random.seed(53217)\n",
    "    \n",
    "#carregar dados no arquivo\n",
    "path = r\"C:\\Users\\User\\Documents\\AI\\f1\\exemplo1.dat\"\n",
    "df = pd.read_csv(path, delimiter=' ')\n",
    "\n",
    "# Determinar a dimensão do neurônio\n",
    "dimensao_neuronio = df.shape[1] - 1  # excluindo a coluna de saída\n",
    "\n",
    "# Inicializar os pesos do neurônio aleatoriamente no intervalo [-0.1, 0.1]\n",
    "pesos = np.random.uniform(-0.1, 0.1, dimensao_neuronio)\n",
    "\n",
    "# Abrindo o arquivo de dados usando a biblioteca csv\n",
    "with open(path, 'r') as arquivo:\n",
    "    leitor_csv = csv.reader(arquivo, delimiter=' ')\n",
    "    # Lendo os dados e armazenando em uma lista\n",
    "    dados = list(leitor_csv)\n",
    "\n",
    "# Convertendo os dados para um array numpy\n",
    "dados = np.array(dados, dtype=float)\n",
    "\n",
    "# Criando um neurônio com a função de ativação sigmoide\n",
    "neuronio = Neuronio('sigmoide')\n",
    "\n",
    "# Mostrando a saída do neurônio para cada ponto do conjunto de dados\n",
    "for ponto in dados:\n",
    "    saida = neuronio.ativar(ponto)\n",
    "    print(\"Entrada:\", ponto, \" Saída:\", saida)\n",
    "    \n"
   ]
  },
  {
   "cell_type": "code",
   "execution_count": null,
   "id": "cdb4ef57",
   "metadata": {},
   "outputs": [],
   "source": []
  }
 ],
 "metadata": {
  "kernelspec": {
   "display_name": "Python 3 (ipykernel)",
   "language": "python",
   "name": "python3"
  },
  "language_info": {
   "codemirror_mode": {
    "name": "ipython",
    "version": 3
   },
   "file_extension": ".py",
   "mimetype": "text/x-python",
   "name": "python",
   "nbconvert_exporter": "python",
   "pygments_lexer": "ipython3",
   "version": "3.11.5"
  }
 },
 "nbformat": 4,
 "nbformat_minor": 5
}
