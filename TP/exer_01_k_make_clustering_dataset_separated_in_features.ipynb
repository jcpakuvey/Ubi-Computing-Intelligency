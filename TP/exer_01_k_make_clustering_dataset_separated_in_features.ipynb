{
 "cells": [
  {
   "cell_type": "code",
   "execution_count": 1,
   "id": "7435d7f6",
   "metadata": {},
   "outputs": [
    {
     "name": "stdout",
     "output_type": "stream",
     "text": [
      "   Feature_1  Feature_2  Label\n",
      "0  -7.726421  -8.394957      2\n",
      "1   5.453396   0.742305      1\n",
      "2  -2.978672   9.556846      0\n",
      "3   6.042673   0.571319      1\n",
      "4  -6.521840  -6.319325      2\n"
     ]
    }
   ],
   "source": [
    "from sklearn.datasets import make_blobs\n",
    "import pandas as pd\n",
    "\n",
    "# Criar os dados usando make_blobs\n",
    "f = make_blobs(n_samples=100, centers=3, cluster_std=1.0, random_state=42)\n",
    "\n",
    "# Separar as coordenadas das amostras e as etiquetas das classes\n",
    "data, labels = f\n",
    "\n",
    "# Criar um DataFrame do pandas com as coordenadas das amostras\n",
    "df = pd.DataFrame(data, columns=['Feature_1', 'Feature_2'])\n",
    "\n",
    "# Adicionar as etiquetas das classes ao DataFrame se necessário\n",
    "df['Label'] = labels\n",
    "\n",
    "# Visualizar as primeiras linhas do DataFrame\n",
    "print(df.head())"
   ]
  },
  {
   "cell_type": "code",
   "execution_count": null,
   "id": "0fd5d49e",
   "metadata": {},
   "outputs": [],
   "source": []
  }
 ],
 "metadata": {
  "kernelspec": {
   "display_name": "Python 3 (ipykernel)",
   "language": "python",
   "name": "python3"
  },
  "language_info": {
   "codemirror_mode": {
    "name": "ipython",
    "version": 3
   },
   "file_extension": ".py",
   "mimetype": "text/x-python",
   "name": "python",
   "nbconvert_exporter": "python",
   "pygments_lexer": "ipython3",
   "version": "3.11.5"
  },
  "toc": {
   "base_numbering": 1,
   "nav_menu": {},
   "number_sections": true,
   "sideBar": true,
   "skip_h1_title": false,
   "title_cell": "Table of Contents",
   "title_sidebar": "Contents",
   "toc_cell": false,
   "toc_position": {},
   "toc_section_display": true,
   "toc_window_display": true
  }
 },
 "nbformat": 4,
 "nbformat_minor": 5
}
