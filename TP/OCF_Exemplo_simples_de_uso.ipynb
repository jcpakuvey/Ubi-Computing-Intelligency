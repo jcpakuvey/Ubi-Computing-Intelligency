{
 "cells": [
  {
   "cell_type": "markdown",
   "id": "0848c47d",
   "metadata": {},
   "source": [
    "Explicação Passo a Passo\n",
    "1)Inicialização:\n",
    "\n",
    "Definimos 5 cidades e 10 formigas.\n",
    "Inicializamos a matriz de feromônios com valores pequenos aleatórios.\n",
    "Calculamos as distâncias entre as cidades.\n",
    "\n",
    "2)Execução:\n",
    "\n",
    "Para cada iteração:\n",
    "Cada formiga constrói uma rota completa.\n",
    "Calculamos o comprimento da rota para cada formiga.\n",
    "Atualizamos a melhor rota se uma nova rota melhor for encontrada.\n",
    "Atualizamos os depósitos de feromônios com base nas rotas encontradas.\n",
    "\n",
    "3)Resultado:\n",
    "\n",
    "O algoritmo retorna a melhor rota encontrada e a sua distância total."
   ]
  },
  {
   "cell_type": "code",
   "execution_count": 1,
   "id": "dbf69366",
   "metadata": {},
   "outputs": [],
   "source": [
    "# Número de cidades e formigas\n",
    "num_cidades = 5\n",
    "num_formigas = 10\n",
    "num_iteracoes = 100"
   ]
  },
  {
   "cell_type": "code",
   "execution_count": 2,
   "id": "62c403ec",
   "metadata": {},
   "outputs": [
    {
     "ename": "NameError",
     "evalue": "name 'OCF' is not defined",
     "output_type": "error",
     "traceback": [
      "\u001b[1;31m---------------------------------------------------------------------------\u001b[0m",
      "\u001b[1;31mNameError\u001b[0m                                 Traceback (most recent call last)",
      "Cell \u001b[1;32mIn[2], line 2\u001b[0m\n\u001b[0;32m      1\u001b[0m \u001b[38;5;66;03m# Instancia a classe OCF\u001b[39;00m\n\u001b[1;32m----> 2\u001b[0m ocf \u001b[38;5;241m=\u001b[39m OCF(num_cidades, num_formigas, num_iteracoes\u001b[38;5;241m=\u001b[39mnum_iteracoes)\n",
      "\u001b[1;31mNameError\u001b[0m: name 'OCF' is not defined"
     ]
    }
   ],
   "source": [
    "# Instancia a classe OCF\n",
    "ocf = OCF(num_cidades, num_formigas, num_iteracoes=num_iteracoes)"
   ]
  },
  {
   "cell_type": "code",
   "execution_count": null,
   "id": "466fa8e1",
   "metadata": {},
   "outputs": [],
   "source": [
    "# Define posições das cidades (para consistência, podemos definir manualmente)\n",
    "ocf.cidades = np.array([\n",
    "    (0, 0),  # Cidade 0\n",
    "    (1, 0),  # Cidade 1\n",
    "    (1, 1),  # Cidade 2\n",
    "    (0, 1),  # Cidade 3\n",
    "    (0.5, 0.5)  # Cidade 4\n",
    "])"
   ]
  },
  {
   "cell_type": "code",
   "execution_count": null,
   "id": "e9c363ff",
   "metadata": {},
   "outputs": [],
   "source": [
    "# Recalcula as distâncias com as novas posições\n",
    "ocf.calcular_distancias()"
   ]
  },
  {
   "cell_type": "code",
   "execution_count": null,
   "id": "7918f140",
   "metadata": {},
   "outputs": [],
   "source": [
    "# Executa a otimização\n",
    "melhor_rota, melhor_distancia = ocf.optimiza()"
   ]
  },
  {
   "cell_type": "code",
   "execution_count": null,
   "id": "87d7b191",
   "metadata": {},
   "outputs": [],
   "source": [
    "# Mostra a melhor rota encontrada\n",
    "print(\"Melhor Rota:\", melhor_rota)\n",
    "print(\"Melhor Distância:\", melhor_distancia)"
   ]
  }
 ],
 "metadata": {
  "kernelspec": {
   "display_name": "Python 3 (ipykernel)",
   "language": "python",
   "name": "python3"
  },
  "language_info": {
   "codemirror_mode": {
    "name": "ipython",
    "version": 3
   },
   "file_extension": ".py",
   "mimetype": "text/x-python",
   "name": "python",
   "nbconvert_exporter": "python",
   "pygments_lexer": "ipython3",
   "version": "3.11.5"
  },
  "toc": {
   "base_numbering": 1,
   "nav_menu": {},
   "number_sections": true,
   "sideBar": true,
   "skip_h1_title": false,
   "title_cell": "Table of Contents",
   "title_sidebar": "Contents",
   "toc_cell": false,
   "toc_position": {},
   "toc_section_display": true,
   "toc_window_display": true
  }
 },
 "nbformat": 4,
 "nbformat_minor": 5
}
