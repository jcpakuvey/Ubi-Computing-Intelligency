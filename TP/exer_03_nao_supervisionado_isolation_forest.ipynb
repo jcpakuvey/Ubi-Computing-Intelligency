{
 "cells": [
  {
   "cell_type": "code",
   "execution_count": 15,
   "id": "935d4932",
   "metadata": {},
   "outputs": [
    {
     "name": "stdout",
     "output_type": "stream",
     "text": [
      "(1797, 64)\n",
      "[False False False ... False False False]\n"
     ]
    },
    {
     "data": {
      "text/plain": [
       "Text(0.5, 1.0, '2')"
      ]
     },
     "execution_count": 15,
     "metadata": {},
     "output_type": "execute_result"
    },
    {
     "data": {
      "image/png": "[encoded data removed]",
      "text/plain": [
       "<Figure size 640x480 with 1 Axes>"
      ]
     },
     "metadata": {},
     "output_type": "display_data"
    }
   ],
   "source": [
    "from sklearn.datasets import load_digits\n",
    "import matplotlib.pyplot as plt\n",
    "\n",
    "from sklearn.ensemble import IsolationForest\n",
    "\n",
    "\n",
    "digits = load_digits()\n",
    "images = digits.images\n",
    "x = digits.data\n",
    "y = digits.target\n",
    "\n",
    "print(x.shape)\n",
    "plt.imshow(images[42])\n",
    "\n",
    "model = IsolationForest(random_state=0, contamination=0.02)\n",
    "model.fit(x)\n",
    "\n",
    "model.predict(x)\n",
    "outliers = model.predict(x) == -1\n",
    "print(outliers)\n",
    "\n",
    "plt.imshow(images[outliers][0])\n",
    "plt.title(y[outliers][0])"
   ]
  },
  {
   "cell_type": "code",
   "execution_count": null,
   "id": "4c5a969a",
   "metadata": {},
   "outputs": [],
   "source": []
  }
 ],
 "metadata": {
  "kernelspec": {
   "display_name": "Python 3 (ipykernel)",
   "language": "python",
   "name": "python3"
  },
  "language_info": {
   "codemirror_mode": {
    "name": "ipython",
    "version": 3
   },
   "file_extension": ".py",
   "mimetype": "text/x-python",
   "name": "python",
   "nbconvert_exporter": "python",
   "pygments_lexer": "ipython3",
   "version": "3.11.5"
  },
  "toc": {
   "base_numbering": 1,
   "nav_menu": {},
   "number_sections": true,
   "sideBar": true,
   "skip_h1_title": false,
   "title_cell": "Table of Contents",
   "title_sidebar": "Contents",
   "toc_cell": false,
   "toc_position": {},
   "toc_section_display": true,
   "toc_window_display": true
  }
 },
 "nbformat": 4,
 "nbformat_minor": 5
}
