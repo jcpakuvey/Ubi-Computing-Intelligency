{
 "cells": [
  {
   "cell_type": "code",
   "execution_count": 1,
   "id": "d626ccbf",
   "metadata": {},
   "outputs": [
    {
     "name": "stdout",
     "output_type": "stream",
     "text": [
      "Pesos dos neurônios após o treinamento:\n"
     ]
    }
   ],
   "source": [
    "import numpy as np\n",
    "\n",
    "\"\"\"\n",
    "Inicialização: Defina os parâmetros iniciais da rede, como a quantidade de neurônios na grade, a taxa de aprendizado e o número de épocas (iterações) de treinamento.\n",
    "\n",
    "Inicialização dos pesos: Inicialize aleatoriamente os pesos dos neurônios.\n",
    "\n",
    "Treinamento: Para cada entrada no conjunto de dados de treinamento, calcule a distância entre essa entrada e os pesos de todos os neurônios. O neurônio com os pesos mais próximos (vencedor) é selecionado. Atualize os pesos desse neurônio com base na entrada atual e na taxa de aprendizado.\n",
    "\n",
    "Atualização da taxa de aprendizado: Opcionalmente, você pode diminuir a taxa de aprendizado ao longo do tempo para que a rede se estabilize melhor.\n",
    "\n",
    "Retorno dos resultados: Após o treinamento, você pode fornecer acesso aos pesos dos neurônios treinados, que podem ser usados para classificar novos dados\n",
    "\"\"\"\n",
    "\n",
    "class SOM:\n",
    "    def __init__(self, input_size, map_size, learning_rate=0.1, num_epochs=100):\n",
    "        self.input_size = input_size\n",
    "        self.map_size = map_size\n",
    "        self.learning_rate = learning_rate\n",
    "        self.num_epochs = num_epochs\n",
    "\n",
    "        # Inicialização dos pesos dos neurônios\n",
    "        self.weights = np.random.rand(map_size[0], map_size[1], input_size)\n",
    "\n",
    "    def train(self, data):\n",
    "        for epoch in range(self.num_epochs):\n",
    "            for x in data:\n",
    "                # Encontre o neurônio vencedor (o mais próximo do ponto de entrada)\n",
    "                winner_index = self._find_winner(x)\n",
    "\n",
    "                # Atualize os pesos do neurônio vencedor e seus vizinhos\n",
    "                self._update_weights(x, winner_index, epoch)\n",
    "\n",
    "    def _find_winner(self, x):\n",
    "        # Calcula as distâncias entre o ponto de entrada (x) e os pesos de todos os neurônios\n",
    "        distances = np.linalg.norm(self.weights - x, axis=-1)\n",
    "\n",
    "        # Encontra o índice do neurônio com a menor distância\n",
    "        winner_index = np.unravel_index(np.argmin(distances), distances.shape)\n",
    "\n",
    "        return winner_index\n",
    "\n",
    "    def _update_weights(self, x, winner_index, epoch):\n",
    "        # Atualiza os pesos do neurônio vencedor e seus vizinhos\n",
    "        learning_rate = self.learning_rate * (1 - epoch / self.num_epochs)\n",
    "        neighborhood_radius = self.map_size[0] / 2 * (1 - epoch / self.num_epochs)\n",
    "\n",
    "        for i in range(self.map_size[0]):\n",
    "            for j in range(self.map_size[1]):\n",
    "                # Calcula a distância entre o neurônio atual e o neurônio vencedor\n",
    "                distance_to_winner = np.linalg.norm(np.array([i, j]) - np.array(winner_index))\n",
    "\n",
    "                # Verifica se o neurônio atual está dentro do raio de vizinhança\n",
    "                if distance_to_winner <= neighborhood_radius:\n",
    "                    # Atualiza os pesos do neurônio atual com base na distância ao vencedor e na taxa de aprendizado\n",
    "                    self.weights[i, j] += learning_rate * (x - self.weights[i, j])\n",
    "\n",
    "# Exemplo de uso:\n",
    "# Define o conjunto de dados de entrada\n",
    "data = np.array([[0.1, 0.2, 0.3],\n",
    "                 [0.5, 0.6, 0.7],\n",
    "                 [0.9, 0.8, 0.7]])\n",
    "\n",
    "# Cria e treina o SOM\n",
    "som = SOM(input_size=3, map_size=(5, 5), learning_rate=0.1, num_epochs=100)\n",
    "som.train(data)\n",
    "\n",
    "# Imprime os pesos dos neurônios após o treinamento\n",
    "print(\"Pesos dos neurônios após o treinamento:\")"
   ]
  },
  {
   "cell_type": "code",
   "execution_count": null,
   "id": "e775fd48",
   "metadata": {},
   "outputs": [],
   "source": []
  }
 ],
 "metadata": {
  "kernelspec": {
   "display_name": "Python 3 (ipykernel)",
   "language": "python",
   "name": "python3"
  },
  "language_info": {
   "codemirror_mode": {
    "name": "ipython",
    "version": 3
   },
   "file_extension": ".py",
   "mimetype": "text/x-python",
   "name": "python",
   "nbconvert_exporter": "python",
   "pygments_lexer": "ipython3",
   "version": "3.11.5"
  },
  "toc": {
   "base_numbering": 1,
   "nav_menu": {},
   "number_sections": true,
   "sideBar": true,
   "skip_h1_title": false,
   "title_cell": "Table of Contents",
   "title_sidebar": "Contents",
   "toc_cell": false,
   "toc_position": {},
   "toc_section_display": true,
   "toc_window_display": true
  }
 },
 "nbformat": 4,
 "nbformat_minor": 5
}
