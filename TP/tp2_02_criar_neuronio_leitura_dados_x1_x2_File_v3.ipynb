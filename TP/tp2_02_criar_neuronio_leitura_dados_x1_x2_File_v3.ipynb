{
 "cells": [
  {
   "cell_type": "code",
   "execution_count": 2,
   "id": "861692e7",
   "metadata": {},
   "outputs": [
    {
     "name": "stdout",
     "output_type": "stream",
     "text": [
      "Saída para entrada [ 1.5 40. ] : 0.027924494036391575\n",
      "Saída para entrada [ 1.52 41.  ] : 0.02557491476499045\n",
      "Saída para entrada [ 1.56 43.  ] : 0.021439481672590355\n",
      "Saída para entrada [ 1.54 45.  ] : 0.01786643332547155\n",
      "Saída para entrada [ 1.5 37. ] : 0.036485671794769345\n",
      "Saída para entrada [ 1.62 47.  ] : 0.015010886783991853\n",
      "Saída para entrada [ 1.7 52. ] : 0.009592189040732361\n",
      "Saída para entrada [ 1.53 63.  ] : 0.0034522765541060785\n",
      "Saída para entrada [ 1.63 44.  ] : 0.019710374314222342\n",
      "Saída para entrada [ 1.57 50.  ] : 0.011378698211552124\n"
     ]
    }
   ],
   "source": [
    "import csv\n",
    "import numpy as np\n",
    "\n",
    "\n",
    "# Função de ativação (sigmoide)\n",
    "def sigmoid(x):\n",
    "    return 1 / (1 + np.exp(-x))\n",
    "\n",
    "# Carregar os dados do arquivo usando a biblioteca csv\n",
    "path = r\"C:\\Users\\User\\Documents\\AI\\f1\\exemplo1.dat\"\n",
    "#df = pd.read_csv(path, delimiter=' ')\n",
    "\n",
    "def carregar_dados(arquivo):\n",
    "    dados = []\n",
    "    with open(path, 'r') as file:\n",
    "        reader = csv.reader(file, delimiter=' ')\n",
    "        for linha in reader:\n",
    "            ponto = [float(valor) for valor in linha]\n",
    "            dados.append(ponto)\n",
    "    return np.array(dados)\n",
    "\n",
    "# Função para calcular a saída do neurônio para um ponto de dados específico\n",
    "def calcular_saida(entrada, pesos):\n",
    "    # Calcular o produto escalar entre a entrada e os pesos\n",
    "    produto_escalar = np.dot(entrada, pesos)\n",
    "    # Aplicar a função de ativação sigmoide\n",
    "    return sigmoid(produto_escalar)\n",
    "\n",
    "# Main\n",
    "if __name__ == \"__main__\":\n",
    "    # Inicializar o gerador de números aleatórios com a semente 53217\n",
    "    np.random.seed(53217)\n",
    "\n",
    "    # Carregar os dados do arquivo\n",
    "    arquivo = path  # nome do arquivo de dados\n",
    "    conjunto_de_dados = carregar_dados(arquivo)\n",
    "\n",
    "    # Determinar a dimensão do neurônio\n",
    "    dimensao_neuronio = conjunto_de_dados.shape[1] - 1  # excluindo a coluna de saída\n",
    "\n",
    "    # Inicializar os pesos do neurônio aleatoriamente no intervalo [-0.1, 0.1]\n",
    "    pesos = np.random.uniform(-0.1, 0.1, dimensao_neuronio)\n",
    "\n",
    "    # Iterar sobre cada ponto de dados e calcular a saída do neurônio\n",
    "    for ponto in conjunto_de_dados:\n",
    "        entrada = ponto[:-1]  # entrada é todos os valores exceto o último (saída)\n",
    "        saida_esperada = ponto[-1]  # saída esperada é o último valor\n",
    "        saida = calcular_saida(entrada, pesos)\n",
    "        print(\"Saída para entrada\", entrada, \":\", saida)"
   ]
  },
  {
   "cell_type": "code",
   "execution_count": null,
   "id": "b1cec57b",
   "metadata": {},
   "outputs": [],
   "source": []
  }
 ],
 "metadata": {
  "kernelspec": {
   "display_name": "Python 3 (ipykernel)",
   "language": "python",
   "name": "python3"
  },
  "language_info": {
   "codemirror_mode": {
    "name": "ipython",
    "version": 3
   },
   "file_extension": ".py",
   "mimetype": "text/x-python",
   "name": "python",
   "nbconvert_exporter": "python",
   "pygments_lexer": "ipython3",
   "version": "3.11.5"
  }
 },
 "nbformat": 4,
 "nbformat_minor": 5
}
