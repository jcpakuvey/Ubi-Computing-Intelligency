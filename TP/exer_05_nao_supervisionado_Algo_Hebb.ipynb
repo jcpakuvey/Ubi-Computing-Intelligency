{
 "cells": [
  {
   "cell_type": "code",
   "execution_count": 1,
   "id": "83dcb986",
   "metadata": {},
   "outputs": [
    {
     "name": "stdout",
     "output_type": "stream",
     "text": [
      "Pesos finais:\n",
      "[[ 1.35705822]\n",
      " [-0.6427725 ]]\n"
     ]
    }
   ],
   "source": [
    "import numpy as np\n",
    "\n",
    "def hebb_learning(inputs, outputs, learning_rate=0.1, max_epochs=100, tol=1e-5):\n",
    "    num_inputs = len(inputs[0])\n",
    "    num_outputs = len(outputs[0])\n",
    "    \n",
    "    # Inicializar os pesos com valores iguais a zero\n",
    "    weights = np.zeros((num_inputs, num_outputs))\n",
    "    \n",
    "    epoch = 0\n",
    "    while epoch < max_epochs:\n",
    "        prev_weights = np.copy(weights)\n",
    "        for x, y in zip(inputs, outputs):\n",
    "            # Calcular a saída prevista\n",
    "            predicted_output = np.dot(x, weights)\n",
    "            \n",
    "            # Ajustar os pesos usando a regra de Hebb\n",
    "            delta_weights = learning_rate * np.outer(x, y - predicted_output)\n",
    "            weights += delta_weights\n",
    "        \n",
    "        # Verificar convergência\n",
    "        if np.all(np.abs(weights - prev_weights) < tol):\n",
    "            break\n",
    "        \n",
    "        epoch += 1\n",
    "    \n",
    "    return weights\n",
    "\n",
    "# Exemplo de uso\n",
    "inputs = np.array([[1, 0], [0, 1], [1, 1]])\n",
    "outputs = np.array([[1], [-1], [1]])\n",
    "weights = hebb_learning(inputs, outputs)\n",
    "\n",
    "print(\"Pesos finais:\")\n",
    "print(weights)"
   ]
  },
  {
   "cell_type": "code",
   "execution_count": null,
   "id": "918cbc45",
   "metadata": {},
   "outputs": [],
   "source": []
  }
 ],
 "metadata": {
  "kernelspec": {
   "display_name": "Python 3 (ipykernel)",
   "language": "python",
   "name": "python3"
  },
  "language_info": {
   "codemirror_mode": {
    "name": "ipython",
    "version": 3
   },
   "file_extension": ".py",
   "mimetype": "text/x-python",
   "name": "python",
   "nbconvert_exporter": "python",
   "pygments_lexer": "ipython3",
   "version": "3.11.5"
  },
  "toc": {
   "base_numbering": 1,
   "nav_menu": {},
   "number_sections": true,
   "sideBar": true,
   "skip_h1_title": false,
   "title_cell": "Table of Contents",
   "title_sidebar": "Contents",
   "toc_cell": false,
   "toc_position": {},
   "toc_section_display": true,
   "toc_window_display": true
  }
 },
 "nbformat": 4,
 "nbformat_minor": 5
}
