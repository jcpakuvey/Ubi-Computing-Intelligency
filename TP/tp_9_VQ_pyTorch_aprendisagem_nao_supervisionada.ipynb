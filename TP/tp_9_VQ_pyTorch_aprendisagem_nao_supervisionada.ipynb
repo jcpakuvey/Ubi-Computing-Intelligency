{
 "cells": [
  {
   "cell_type": "code",
   "execution_count": 1,
   "id": "70da1e2b",
   "metadata": {},
   "outputs": [
    {
     "name": "stdout",
     "output_type": "stream",
     "text": [
      "Pesos dos neurônios após o treinamento:\n",
      "[[0.5280441  0.55424345]]\n"
     ]
    }
   ],
   "source": [
    "import torch\n",
    "\n",
    "class VectorQuantificacao:\n",
    "    def __init__(self, input_size, num_neurons, learning_rate=0.1, num_epochs=100):\n",
    "        self.input_size = input_size\n",
    "        self.num_neurons = num_neurons\n",
    "        self.learning_rate = learning_rate\n",
    "        self.num_epochs = num_epochs\n",
    "\n",
    "        # Inicialização dos pesos dos neurônios\n",
    "        self.weights = torch.rand(num_neurons, input_size, requires_grad=True)\n",
    "        \n",
    "    def train(self, data):\n",
    "        for epoch in range(self.num_epochs):\n",
    "            for x in data:\n",
    "                # Encontre o neurônio vencedor (o mais próximo do ponto de entrada)\n",
    "                winner_index = self._find_winner(x)\n",
    "\n",
    "                # Atualize os pesos do neurônio vencedor\n",
    "                #self.weights[winner_index] += self.learning_rate * (x - self.weights[winner_index])\n",
    "                self.weights.data[winner_index]= self.weights[winner_index] + self.learning_rate * (x - self.weights[winner_index])\n",
    "                \n",
    "    def _find_winner(self, x):\n",
    "        # Calcule as distâncias entre o ponto de entrada e os pesos de todos os neurônios\n",
    "        distances = torch.norm(self.weights - x, dim=1)\n",
    "        \n",
    "        # Encontre o índice do neurônio com a menor distância (o vencedor)\n",
    "        winner_index = torch.argmin(distances)\n",
    "        return winner_index\n",
    "\n",
    "# Converter os dados para tensores do PyTorch\n",
    "data_tensor = torch.tensor([[0.1, 0.2],\n",
    "                            [0.5, 0.6],\n",
    "                            [0.9, 0.8]])\n",
    "\n",
    "# Cria e treina o vetor quantizado com PyTorch\n",
    "vq_pytorch = VectorQuantificacao(input_size=2, num_neurons=1, learning_rate=0.1, num_epochs=100)\n",
    "vq_pytorch.train(data_tensor)\n",
    "\n",
    "# Imprime os pesos dos neurônios após o treinamento\n",
    "print(\"Pesos dos neurônios após o treinamento:\")\n",
    "print(vq_pytorch.weights.detach().numpy())"
   ]
  },
  {
   "cell_type": "code",
   "execution_count": null,
   "id": "d08ba579",
   "metadata": {},
   "outputs": [],
   "source": []
  }
 ],
 "metadata": {
  "kernelspec": {
   "display_name": "Python 3 (ipykernel)",
   "language": "python",
   "name": "python3"
  },
  "language_info": {
   "codemirror_mode": {
    "name": "ipython",
    "version": 3
   },
   "file_extension": ".py",
   "mimetype": "text/x-python",
   "name": "python",
   "nbconvert_exporter": "python",
   "pygments_lexer": "ipython3",
   "version": "3.11.5"
  },
  "toc": {
   "base_numbering": 1,
   "nav_menu": {},
   "number_sections": true,
   "sideBar": true,
   "skip_h1_title": false,
   "title_cell": "Table of Contents",
   "title_sidebar": "Contents",
   "toc_cell": false,
   "toc_position": {},
   "toc_section_display": true,
   "toc_window_display": true
  }
 },
 "nbformat": 4,
 "nbformat_minor": 5
}
