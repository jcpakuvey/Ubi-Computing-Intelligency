{
 "cells": [
  {
   "cell_type": "code",
   "execution_count": 7,
   "id": "e1abae35",
   "metadata": {},
   "outputs": [],
   "source": [
    "#o esqueleto da classe OCF e o construtor\n",
    "import numpy as np\n",
    "import random\n",
    "import math\n",
    "\n",
    "class OCF:\n",
    "    def __init__(self, num_cidades, num_formigas):\n",
    "    #def __init__(self, num_cidades, num_formigas, alfa=1.0, beta=2.0, evaporacao=0.5, intensificacao=1.0, num_iteracoes=100):\n",
    "        self.num_cidades = num_cidades\n",
    "        self.num_formigas = num_formigas\n",
    "        #self.alfa = alfa\n",
    "        #self.beta = beta\n",
    "        #self.evaporacao = evaporacao\n",
    "        #self.intensificacao = intensificacao\n",
    "        self.num_iteracoes = num_iteracoes\n",
    "        self.distancias = np.zeros((num_cidades, num_cidades))\n",
    "        self.feromonas = np.ones((num_cidades, num_cidades))\n",
    "        self.cidades = np.array([ (random.random(), random.random()) for i in range(num_cidades) ])\n",
    "        self.melhor_rota = None\n",
    "        self.melhor_distancia = float('inf')"
   ]
  },
  {
   "cell_type": "code",
   "execution_count": 8,
   "id": "c452435a",
   "metadata": {},
   "outputs": [],
   "source": [
    "num_cidades = 10\n",
    "num_formigas = 5\n",
    "\n",
    "ocf = OCF(num_cidades, num_formigas)"
   ]
  },
  {
   "cell_type": "code",
   "execution_count": 9,
   "id": "6cf9fca9",
   "metadata": {},
   "outputs": [
    {
     "data": {
      "text/plain": [
       "<__main__.OCF at 0x254d7defe90>"
      ]
     },
     "execution_count": 9,
     "metadata": {},
     "output_type": "execute_result"
    }
   ],
   "source": [
    "ocf"
   ]
  },
  {
   "cell_type": "code",
   "execution_count": 11,
   "id": "ec1febe2",
   "metadata": {},
   "outputs": [],
   "source": [
    " distancias = np.zeros((num_cidades, num_cidades))"
   ]
  },
  {
   "cell_type": "code",
   "execution_count": 12,
   "id": "f73c4c61",
   "metadata": {},
   "outputs": [
    {
     "data": {
      "text/plain": [
       "array([[0., 0., 0., 0., 0., 0., 0., 0., 0., 0.],\n",
       "       [0., 0., 0., 0., 0., 0., 0., 0., 0., 0.],\n",
       "       [0., 0., 0., 0., 0., 0., 0., 0., 0., 0.],\n",
       "       [0., 0., 0., 0., 0., 0., 0., 0., 0., 0.],\n",
       "       [0., 0., 0., 0., 0., 0., 0., 0., 0., 0.],\n",
       "       [0., 0., 0., 0., 0., 0., 0., 0., 0., 0.],\n",
       "       [0., 0., 0., 0., 0., 0., 0., 0., 0., 0.],\n",
       "       [0., 0., 0., 0., 0., 0., 0., 0., 0., 0.],\n",
       "       [0., 0., 0., 0., 0., 0., 0., 0., 0., 0.],\n",
       "       [0., 0., 0., 0., 0., 0., 0., 0., 0., 0.]])"
      ]
     },
     "execution_count": 12,
     "metadata": {},
     "output_type": "execute_result"
    }
   ],
   "source": [
    " distancias"
   ]
  },
  {
   "cell_type": "code",
   "execution_count": null,
   "id": "0d51e8c9",
   "metadata": {},
   "outputs": [],
   "source": []
  }
 ],
 "metadata": {
  "kernelspec": {
   "display_name": "Python 3 (ipykernel)",
   "language": "python",
   "name": "python3"
  },
  "language_info": {
   "codemirror_mode": {
    "name": "ipython",
    "version": 3
   },
   "file_extension": ".py",
   "mimetype": "text/x-python",
   "name": "python",
   "nbconvert_exporter": "python",
   "pygments_lexer": "ipython3",
   "version": "3.11.5"
  },
  "toc": {
   "base_numbering": 1,
   "nav_menu": {},
   "number_sections": true,
   "sideBar": true,
   "skip_h1_title": false,
   "title_cell": "Table of Contents",
   "title_sidebar": "Contents",
   "toc_cell": false,
   "toc_position": {},
   "toc_section_display": true,
   "toc_window_display": true
  }
 },
 "nbformat": 4,
 "nbformat_minor": 5
}
