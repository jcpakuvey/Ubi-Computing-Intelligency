{
 "cells": [
  {
   "cell_type": "code",
   "execution_count": 4,
   "id": "e1318ca6",
   "metadata": {},
   "outputs": [],
   "source": [
    "#o esqueleto da classe OCF e o construtor\n",
    "import numpy as np\n",
    "import random\n",
    "import math\n",
    "\n",
    "class OCF:\n",
    "    def __init__(self, num_cidades, num_formigas, alfa=1.0, beta=2.0, evaporacao=0.5, intensificacao=1.0, num_iteracoes=100):\n",
    "        self.num_cidades = num_cidades\n",
    "        self.num_formigas = num_formigas\n",
    "        self.alfa = alfa\n",
    "        self.beta = beta\n",
    "        self.evaporacao = evaporacao\n",
    "        self.intensificacao = intensificacao\n",
    "        self.num_iteracoes = num_iteracoes\n",
    "        self.distancias = np.zeros((num_cidades, num_cidades))\n",
    "        self.feromonas = np.ones((num_cidades, num_cidades))\n",
    "        self.cidades = np.array([ (random.random(), random.random()) for i in range(num_cidades) ])\n",
    "        self.melhor_rota = None\n",
    "        self.melhor_distancia = float('inf')\n",
    "        \n",
    "    def distancia_euclidiana(self, cidade1, cidade2):\n",
    "        return np.linalg.norm(np.array(self.cidades[cidade1]) - np.array(self.cidades[cidade2]))"
   ]
  },
  {
   "cell_type": "code",
   "execution_count": 5,
   "id": "9b94c9b5",
   "metadata": {},
   "outputs": [],
   "source": [
    "#Método para calcular a distância euclidiana entre duas cidades\n",
    "def distancia_euclidiana(self, cidade1, cidade2):\n",
    "        return np.linalg.norm(np.array(self.cidades[cidade1]) - np.array(self.cidades[cidade2]))"
   ]
  },
  {
   "cell_type": "code",
   "execution_count": 6,
   "id": "a28d3715",
   "metadata": {},
   "outputs": [],
   "source": [
    "#Método para calcular a probabilidade de uma formiga visitar uma cidade\n",
    "def calcular_probabilidade(self, formiga, cidade_atual, cidades_nao_visitadas):\n",
    "        denominador = 0.0\n",
    "        probabilidades = []\n",
    "        for cidade in cidades_nao_visitadas:\n",
    "            denominador += (self.feromonas[cidade_atual][cidade] ** self.alfa) * ((1.0 / self.distancia_euclidiana(cidade_atual, cidade)) ** self.beta)\n",
    "        for cidade in cidades_nao_visitadas:\n",
    "            numerador = (self.feromonas[cidade_atual][cidade] ** self.alfa) * ((1.0 / self.distancia_euclidiana(cidade_atual, cidade)) ** self.beta)\n",
    "            probabilidades.append(numerador / denominador)\n",
    "        return probabilidades"
   ]
  },
  {
   "cell_type": "code",
   "execution_count": 7,
   "id": "67bea7f3",
   "metadata": {},
   "outputs": [],
   "source": [
    "#Método para calcular o comprimento de uma rota\n",
    "def calcular_comprimento_rota(self, rota):\n",
    "        comprimento = 0.0\n",
    "        for i in range(len(rota) - 1):\n",
    "            comprimento += self.distancia_euclidiana(rota[i], rota[i + 1])\n",
    "        comprimento += self.distancia_euclidiana(rota[-1], rota[0]) # retorno à cidade inicial\n",
    "        return comprimento"
   ]
  },
  {
   "cell_type": "code",
   "execution_count": null,
   "id": "9a54ccfd",
   "metadata": {},
   "outputs": [],
   "source": [
    "#Método para verificar se uma cidade já foi visitada por uma formiga\n",
    "def cidade_ja_foi_visitada(self, formiga, cidade):\n",
    "        return cidade in formiga"
   ]
  },
  {
   "cell_type": "code",
   "execution_count": 8,
   "id": "2cd323d6",
   "metadata": {},
   "outputs": [],
   "source": [
    "#Método para verificar se uma aresta (i, j) existe na rota da formiga\n",
    "def aresta_existe_na_rota(self, rota, cidade1, cidade2):\n",
    "        for i in range(len(rota) - 1):\n",
    "            if rota[i] == cidade1 and rota[i + 1] == cidade2:\n",
    "                return True\n",
    "            if rota[i] == cidade2 and rota[i + 1] == cidade1:\n",
    "                return True\n",
    "        if rota[0] == cidade2 and rota[-1] == cidade1:\n",
    "            return True\n",
    "        return False"
   ]
  },
  {
   "cell_type": "code",
   "execution_count": null,
   "id": "51d50449",
   "metadata": {},
   "outputs": [],
   "source": [
    "#Método para devolver um índice com base nas probabilidades\n",
    "def selecionar_proxima_cidade(self, probabilidades):\n",
    "        return np.random.choice(len(probabilidades), p=probabilidades)"
   ]
  },
  {
   "cell_type": "code",
   "execution_count": 9,
   "id": "6e87d504",
   "metadata": {},
   "outputs": [],
   "source": [
    "#Método para atualizar as feromonas\n",
    "def atualizar_feromonas(self, formigas, rotas, distancias):\n",
    "        self.feromonas *= (1 - self.evaporacao)\n",
    "        for i, rota in enumerate(rotas):\n",
    "            for j in range(len(rota) - 1):\n",
    "                self.feromonas[rota[j]][rota[j + 1]] += self.intensificacao / distancias[i]\n",
    "                self.feromonas[rota[j + 1]][rota[j]] += self.intensificacao / distancias[i]\n",
    "            self.feromonas[rota[-1]][rota[0]] += self.intensificacao / distancias[i]\n",
    "            self.feromonas[rota[0]][rota[-1]] += self.intensificacao / distancias[i]"
   ]
  },
  {
   "cell_type": "code",
   "execution_count": 10,
   "id": "6f7958c3",
   "metadata": {},
   "outputs": [],
   "source": [
    "#Método para construir uma rota\n",
    "def construir_rota(self, formiga):\n",
    "        rota = []\n",
    "        cidades_nao_visitadas = list(range(self.num_cidades))\n",
    "        cidade_atual = random.choice(cidades_nao_visitadas)\n",
    "        rota.append(cidade_atual)\n",
    "        cidades_nao_visitadas.remove(cidade_atual)\n",
    "        \n",
    "        while cidades_nao_visitadas:\n",
    "            probabilidades = self.calcular_probabilidade(formiga, cidade_atual, cidades_nao_visitadas)\n",
    "            cidade_atual = cidades_nao_visitadas[self.selecionar_proxima_cidade(probabilidades)]\n",
    "            rota.append(cidade_atual)\n",
    "            cidades_nao_visitadas.remove(cidade_atual)\n",
    "        \n",
    "        return rota"
   ]
  },
  {
   "cell_type": "code",
   "execution_count": 11,
   "id": "ff7b5ca2",
   "metadata": {},
   "outputs": [],
   "source": [
    "#Método para verificar se uma rota é válida\n",
    "def verificar_rota_valida(self, rota):\n",
    "        return len(set(rota)) == self.num_cidades"
   ]
  },
  {
   "cell_type": "code",
   "execution_count": 12,
   "id": "71957492",
   "metadata": {},
   "outputs": [],
   "source": [
    "#Método principal para otimizar a rota\n",
    "def optimiza(self):\n",
    "        for iteracao in range(self.num_iteracoes):\n",
    "            formigas = [self.construir_rota([]) for _ in range(self.num_formigas)]\n",
    "            rotas = []\n",
    "            distancias = []\n",
    "            for formiga in formigas:\n",
    "                if self.verificar_rota_valida(formiga):\n",
    "                    comprimento = self.calcular_comprimento_rota(formiga)\n",
    "                    rotas.append(formiga)\n",
    "                    distancias.append(comprimento)\n",
    "                    if comprimento < self.melhor_distancia:\n",
    "                        self.melhor_rota = formiga\n",
    "                        self.melhor_distancia = comprimento\n",
    "            self.atualizar_feromonas(formigas, rotas, distancias)\n",
    "        return self.melhor_rota, self.melhor_distancia"
   ]
  },
  {
   "cell_type": "code",
   "execution_count": 15,
   "id": "74d96404",
   "metadata": {},
   "outputs": [],
   "source": [
    "#Métodos auxiliares\n",
    "def ligaCidades(self):\n",
    "        for i in range(self.num_cidades):\n",
    "            for j in range(i + 1, self.num_cidades):\n",
    "                self.distancias[i][j] = self.distancia_euclidiana(i, j)\n",
    "                self.distancias[j][i] = self.distancia_euclidiana(j, i)\n",
    "    \n",
    "def setPosicaoCidade(self, cidade, posicao):\n",
    "        self.cidades[cidade] = posicao\n",
    "    \n",
    "def mostraRota(self, rota):\n",
    "        print(\"Rota:\", rota)\n",
    "        print(\"Distância:\", self.calcular_comprimento_rota(rota))"
   ]
  },
  {
   "cell_type": "code",
   "execution_count": null,
   "id": "f2476ac5",
   "metadata": {},
   "outputs": [],
   "source": [
    "#Exemplo de uso\n",
    "# Número de cidades e formigas\n",
    "num_cidades = 10\n",
    "num_formigas = 5\n",
    "\n",
    "# Instancia a classe OCF\n",
    "ocf = OCF(num_cidades, num_formigas)\n",
    "\n",
    "# Define posições das cidades\n",
    "for i in range(num_cidades):\n",
    "    ocf.setPosicaoCidade(i, (random.random(), random.random()))\n",
    "\n",
    "# Constrói as distâncias entre as cidades\n",
    "ocf.ligaCidades()\n",
    "\n",
    "# Executa a otimização\n",
    "melhor_rota, melhor_distancia = ocf.optimiza()\n",
    "\n",
    "# Mostra a melhor rota encontrada\n",
    "ocf.mostraRota(melhor_rota)"
   ]
  },
  {
   "cell_type": "code",
   "execution_count": 16,
   "id": "e4642c5d",
   "metadata": {},
   "outputs": [],
   "source": [
    "#Exemplo de uso\n",
    "# Número de cidades e formigas\n",
    "num_cidades = 10\n",
    "num_formigas = 5\n",
    "\n",
    "# Instancia a classe OCF\n",
    "ocf = OCF(num_cidades, num_formigas)"
   ]
  },
  {
   "cell_type": "code",
   "execution_count": 17,
   "id": "690c90b0",
   "metadata": {},
   "outputs": [
    {
     "ename": "AttributeError",
     "evalue": "'OCF' object has no attribute 'setPosicaoCidade'",
     "output_type": "error",
     "traceback": [
      "\u001b[1;31m---------------------------------------------------------------------------\u001b[0m",
      "\u001b[1;31mAttributeError\u001b[0m                            Traceback (most recent call last)",
      "Cell \u001b[1;32mIn[17], line 3\u001b[0m\n\u001b[0;32m      1\u001b[0m \u001b[38;5;66;03m# Define posições das cidades\u001b[39;00m\n\u001b[0;32m      2\u001b[0m \u001b[38;5;28;01mfor\u001b[39;00m i \u001b[38;5;129;01min\u001b[39;00m \u001b[38;5;28mrange\u001b[39m(num_cidades):\n\u001b[1;32m----> 3\u001b[0m     ocf\u001b[38;5;241m.\u001b[39msetPosicaoCidade(i, (random\u001b[38;5;241m.\u001b[39mrandom(), random\u001b[38;5;241m.\u001b[39mrandom()))\n",
      "\u001b[1;31mAttributeError\u001b[0m: 'OCF' object has no attribute 'setPosicaoCidade'"
     ]
    }
   ],
   "source": [
    "# Define posições das cidades\n",
    "for i in range(num_cidades):\n",
    "    ocf.setPosicaoCidade(i, (random.random(), random.random()))"
   ]
  },
  {
   "cell_type": "code",
   "execution_count": null,
   "id": "8bbe18f4",
   "metadata": {},
   "outputs": [],
   "source": [
    "# Constrói as distâncias entre as cidades\n",
    "ocf.ligaCidades()"
   ]
  },
  {
   "cell_type": "code",
   "execution_count": null,
   "id": "eb687852",
   "metadata": {},
   "outputs": [],
   "source": [
    "# Executa a otimização\n",
    "melhor_rota, melhor_distancia = ocf.optimiza()"
   ]
  },
  {
   "cell_type": "code",
   "execution_count": null,
   "id": "1c13f42c",
   "metadata": {},
   "outputs": [],
   "source": [
    "# Mostra a melhor rota encontrada\n",
    "ocf.mostraRota(melhor_rota)"
   ]
  }
 ],
 "metadata": {
  "kernelspec": {
   "display_name": "Python 3 (ipykernel)",
   "language": "python",
   "name": "python3"
  },
  "language_info": {
   "codemirror_mode": {
    "name": "ipython",
    "version": 3
   },
   "file_extension": ".py",
   "mimetype": "text/x-python",
   "name": "python",
   "nbconvert_exporter": "python",
   "pygments_lexer": "ipython3",
   "version": "3.11.5"
  },
  "toc": {
   "base_numbering": 1,
   "nav_menu": {},
   "number_sections": true,
   "sideBar": true,
   "skip_h1_title": false,
   "title_cell": "Table of Contents",
   "title_sidebar": "Contents",
   "toc_cell": false,
   "toc_position": {},
   "toc_section_display": true,
   "toc_window_display": true
  }
 },
 "nbformat": 4,
 "nbformat_minor": 5
}
