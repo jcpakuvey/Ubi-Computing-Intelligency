{
 "cells": [
  {
   "cell_type": "code",
   "execution_count": 1,
   "id": "d23f8f06",
   "metadata": {},
   "outputs": [],
   "source": [
    "import numpy as np\n",
    "\n",
    "class SOM:\n",
    "    def __init__(self, input_size, output_size, learning_rate=0.1):\n",
    "        self.input_size = input_size\n",
    "        self.output_size = output_size\n",
    "        self.learning_rate = learning_rate\n",
    "        self.weights = np.random.rand(output_size, input_size)\n",
    "\n",
    "    def train(self, data, epochs):\n",
    "        for epoch in range(epochs):\n",
    "            for x in data:\n",
    "                # Encontre o neurônio vencedor\n",
    "                winner_index = self._find_winner(x)\n",
    "                \n",
    "                # Atualize os pesos do neurônio vencedor\n",
    "                self.weights[winner_index] += self.learning_rate * (x - self.weights[winner_index])\n",
    "\n",
    "    def _find_winner(self, x):\n",
    "        # Calcule as distâncias entre o ponto de entrada e os pesos de todos os neurônios\n",
    "        distances = np.linalg.norm(self.weights - x, axis=1)\n",
    "        \n",
    "        # Encontre o índice do neurônio com a menor distância (o vencedor)\n",
    "        winner_index = np.argmin(distances)\n",
    "        return winner_index\n"
   ]
  },
  {
   "cell_type": "code",
   "execution_count": null,
   "id": "f38db046",
   "metadata": {},
   "outputs": [],
   "source": []
  },
  {
   "cell_type": "code",
   "execution_count": null,
   "id": "6dab8584",
   "metadata": {},
   "outputs": [],
   "source": []
  }
 ],
 "metadata": {
  "kernelspec": {
   "display_name": "Python 3 (ipykernel)",
   "language": "python",
   "name": "python3"
  },
  "language_info": {
   "codemirror_mode": {
    "name": "ipython",
    "version": 3
   },
   "file_extension": ".py",
   "mimetype": "text/x-python",
   "name": "python",
   "nbconvert_exporter": "python",
   "pygments_lexer": "ipython3",
   "version": "3.11.5"
  },
  "toc": {
   "base_numbering": 1,
   "nav_menu": {},
   "number_sections": true,
   "sideBar": true,
   "skip_h1_title": false,
   "title_cell": "Table of Contents",
   "title_sidebar": "Contents",
   "toc_cell": false,
   "toc_position": {},
   "toc_section_display": true,
   "toc_window_display": true
  }
 },
 "nbformat": 4,
 "nbformat_minor": 5
}
