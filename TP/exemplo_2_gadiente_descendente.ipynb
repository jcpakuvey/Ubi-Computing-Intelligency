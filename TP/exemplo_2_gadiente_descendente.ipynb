{
 "cells": [
  {
   "cell_type": "code",
   "execution_count": 1,
   "id": "23eee7b5",
   "metadata": {},
   "outputs": [],
   "source": [
    "import numpy as np\n",
    "\n",
    "class Neuronio:\n",
    "    def __init__(self, num_entradas, taxa_aprendizagem):\n",
    "        self.num_entradas = num_entradas\n",
    "        self.taxa_aprendizagem = taxa_aprendizagem\n",
    "        # Inicialização dos pesos com valores aleatórios\n",
    "        self.pesos = np.random.rand(num_entradas)\n",
    "\n",
    "    def ativacao(self, entrada):\n",
    "        # Função de ativação (nesse caso, a função linear)\n",
    "        return np.dot(entrada, self.pesos)\n",
    "\n",
    "    def treinar(self, entrada, saida_desejada):\n",
    "        # Calcula a saída atual do neurônio\n",
    "        saida_atual = self.ativacao(entrada)\n",
    "        # Calcula o erro\n",
    "        erro = saida_desejada - saida_atual\n",
    "        # Atualiza os pesos\n",
    "        self.pesos += self.taxa_aprendizagem * erro * entrada\n",
    "\n",
    "# Exemplo de uso\n",
    "if __name__ == \"__main__\":\n",
    "    # Definição dos dados de entrada e saída desejada\n",
    "    entrada = np.array([0.5, 0.3, 0.2])\n",
    "    saida_desejada = 0.8\n",
    "    # Criação do neurônio com 3 entradas e taxa de aprendizagem 0.01\n",
    "    neuronio = Neuronio(3, 0.01)\n",
    "    # Treinamento do neurônio com um exemplo\n",
    "    neuronio.treinar(entrada, saida_desejada)"
   ]
  },
  {
   "cell_type": "code",
   "execution_count": null,
   "id": "a9c5e7df",
   "metadata": {},
   "outputs": [],
   "source": []
  },
  {
   "cell_type": "code",
   "execution_count": null,
   "id": "a8f9ed37",
   "metadata": {},
   "outputs": [],
   "source": []
  }
 ],
 "metadata": {
  "kernelspec": {
   "display_name": "Python 3 (ipykernel)",
   "language": "python",
   "name": "python3"
  },
  "language_info": {
   "codemirror_mode": {
    "name": "ipython",
    "version": 3
   },
   "file_extension": ".py",
   "mimetype": "text/x-python",
   "name": "python",
   "nbconvert_exporter": "python",
   "pygments_lexer": "ipython3",
   "version": "3.11.5"
  },
  "toc": {
   "base_numbering": 1,
   "nav_menu": {},
   "number_sections": true,
   "sideBar": true,
   "skip_h1_title": false,
   "title_cell": "Table of Contents",
   "title_sidebar": "Contents",
   "toc_cell": false,
   "toc_position": {},
   "toc_section_display": true,
   "toc_window_display": true
  }
 },
 "nbformat": 4,
 "nbformat_minor": 5
}
