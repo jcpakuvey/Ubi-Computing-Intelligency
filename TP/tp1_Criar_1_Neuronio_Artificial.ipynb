{
 "cells": [
  {
   "cell_type": "code",
   "execution_count": 3,
   "id": "ebe9a2bd-321d-4d4a-b3d3-5e546d9e82b1",
   "metadata": {},
   "outputs": [
    {
     "name": "stdout",
     "output_type": "stream",
     "text": [
      "valor saida : -0.024214791841311187\n",
      "valor saida ativa) :0.4939465978242448\n"
     ]
    }
   ],
   "source": [
    "import random\n",
    "import numpy as np\n",
    "\n",
    "class Neuronio:\n",
    "\n",
    "    global dimensao\n",
    "    dimensao = 5\n",
    "    \n",
    "    def __init__(self,entrada, peso):\n",
    "        self.entrada = entrada\n",
    "        random.seed()\n",
    "        #self.peso = np.array([random.uniform(-0.1,0.1)])\n",
    "        # Criar o array 3 x 3 com números aleatórios entre 1 e 52\n",
    "        #self.peso = np.random.randint(1,52, (3,3))\n",
    "        self.peso = np.random.uniform(-0.1,0.1)\n",
    "\n",
    "def sigmoide(x):\n",
    "    return 1/(1+np.exp(-x))\n",
    "\n",
    "def calcula(x, peso) :\n",
    "    saida = x*peso\n",
    "    return saida\n",
    "\n",
    "def mostra_pesos():\n",
    "    for pesos in val.peso:\n",
    "        print(f'pesos no ecrã:{pesos}')\n",
    "    \n",
    "val = Neuronio(1,1)\n",
    "\n",
    "saida = calcula(val.entrada, val.peso)\n",
    "saida_ativa = sigmoide(saida)\n",
    "\n",
    "print(f'valor saida : {saida}')\n",
    "print(f'valor saida ativa) :{saida_ativa}')\n",
    "\n",
    "#mostra_pesos()\n",
    "\n",
    "#neuronio = Neuronio(2,0)\n",
    "#print('valor x:', val.x)\n",
    "#print('valor peso:',val.peso)\n",
    "#num = random.randint(0,5)\n",
    "#print(num)\n",
    "#num = random.randint(0,5) \n",
    "#print(num)\n",
    "# = random.randint(0,5)\n",
    "#print(num)\n",
    "\n",
    "#sigmoide(neuronio.x)\n",
    "\n",
    "\n",
    "    \n",
    "    \n",
    "    \n"
   ]
  },
  {
   "cell_type": "code",
   "execution_count": null,
   "id": "d384cd11-15db-46c4-935d-801ef6e88396",
   "metadata": {},
   "outputs": [],
   "source": []
  },
  {
   "cell_type": "code",
   "execution_count": null,
   "id": "3890360d-1174-4352-86c2-f12219b48293",
   "metadata": {},
   "outputs": [],
   "source": []
  },
  {
   "cell_type": "code",
   "execution_count": null,
   "id": "ed73fb91-de86-4381-b825-2fc6c328cd2a",
   "metadata": {},
   "outputs": [],
   "source": []
  },
  {
   "cell_type": "code",
   "execution_count": null,
   "id": "8713f2ce-b293-4bd1-8cad-29a27ccaed5b",
   "metadata": {},
   "outputs": [],
   "source": []
  },
  {
   "cell_type": "code",
   "execution_count": null,
   "id": "7caa08b0-c951-4524-9a28-8ea699263e59",
   "metadata": {},
   "outputs": [],
   "source": []
  }
 ],
 "metadata": {
  "kernelspec": {
   "display_name": "Python 3 (ipykernel)",
   "language": "python",
   "name": "python3"
  },
  "language_info": {
   "codemirror_mode": {
    "name": "ipython",
    "version": 3
   },
   "file_extension": ".py",
   "mimetype": "text/x-python",
   "name": "python",
   "nbconvert_exporter": "python",
   "pygments_lexer": "ipython3",
   "version": "3.11.5"
  },
  "toc": {
   "base_numbering": 1,
   "nav_menu": {},
   "number_sections": true,
   "sideBar": true,
   "skip_h1_title": false,
   "title_cell": "Table of Contents",
   "title_sidebar": "Contents",
   "toc_cell": false,
   "toc_position": {},
   "toc_section_display": true,
   "toc_window_display": true
  }
 },
 "nbformat": 4,
 "nbformat_minor": 5
}
